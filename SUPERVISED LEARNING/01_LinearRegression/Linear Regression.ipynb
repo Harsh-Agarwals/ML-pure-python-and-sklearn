{
 "cells": [
  {
   "cell_type": "markdown",
   "metadata": {},
   "source": [
    "# LINEAR REGRESSION"
   ]
  },
  {
   "cell_type": "markdown",
   "metadata": {},
   "source": [
    "## Linear Regression performed on 1-D and multidimensional dataset using \n",
    "\n",
    "- Scikit Learn \n",
    "- Pure Python"
   ]
  },
  {
   "cell_type": "markdown",
   "metadata": {},
   "source": [
    "### Installing and importing Libraries"
   ]
  },
  {
   "cell_type": "code",
   "execution_count": 2,
   "metadata": {},
   "outputs": [
    {
     "name": "stderr",
     "output_type": "stream",
     "text": [
      "C:\\Users\\harsh\\Anaconda3\\lib\\site-packages\\pandas\\compat\\_optional.py:138: UserWarning: Pandas requires version '2.7.0' or newer of 'numexpr' (version '2.6.9' currently installed).\n",
      "  warnings.warn(msg, UserWarning)\n",
      "C:\\Users\\harsh\\Anaconda3\\lib\\site-packages\\statsmodels\\tools\\_testing.py:19: FutureWarning: pandas.util.testing is deprecated. Use the functions in the public API at pandas.testing instead.\n",
      "  import pandas.util.testing as tm\n"
     ]
    }
   ],
   "source": [
    "import numpy as np\n",
    "import pandas as pd\n",
    "import matplotlib.pyplot as plt\n",
    "import seaborn as sns"
   ]
  },
  {
   "cell_type": "code",
   "execution_count": null,
   "metadata": {},
   "outputs": [],
   "source": [
    "from sklearn import linear_model\n",
    "from sklearn.model_selection import train_test_split\n",
    "from sklearn.metrics import mean_squared_error, r2_score"
   ]
  },
  {
   "cell_type": "markdown",
   "metadata": {},
   "source": [
    "## Linear Regression on 1-D dataset of Salary v/s Years Experience"
   ]
  },
  {
   "cell_type": "markdown",
   "metadata": {},
   "source": [
    "### Using Scikit Learn"
   ]
  },
  {
   "cell_type": "markdown",
   "metadata": {},
   "source": [
    "#### STEP - 1\n",
    "- Importing csv file containing our dataset\n",
    "- Splitting the dataset into training and test set\n",
    "- Reshaping the dimensions\n",
    "- Visualizing dataset using graphs"
   ]
  },
  {
   "cell_type": "code",
   "execution_count": null,
   "metadata": {},
   "outputs": [],
   "source": [
    "salary_dataset = pd.read_csv('salary_data.csv')"
   ]
  },
  {
   "cell_type": "code",
   "execution_count": null,
   "metadata": {
    "scrolled": true
   },
   "outputs": [],
   "source": [
    "salary_dataset"
   ]
  },
  {
   "cell_type": "code",
   "execution_count": null,
   "metadata": {},
   "outputs": [],
   "source": [
    "X = salary_dataset['YearsExperience']\n",
    "y = salary_dataset['Salary']\n",
    "\n",
    "print(X.shape)\n",
    "print(y.shape)"
   ]
  },
  {
   "cell_type": "code",
   "execution_count": null,
   "metadata": {},
   "outputs": [],
   "source": [
    "X = X.values.reshape((-1, 1))\n",
    "y = y.values.reshape((-1, 1))\n",
    "\n",
    "print(X.shape)\n",
    "print(y.shape)"
   ]
  },
  {
   "cell_type": "code",
   "execution_count": null,
   "metadata": {},
   "outputs": [],
   "source": [
    "train_x, test_x, train_y, test_y = train_test_split(X, y, test_size=0.25, random_state=42)"
   ]
  },
  {
   "cell_type": "code",
   "execution_count": null,
   "metadata": {},
   "outputs": [],
   "source": [
    "print(train_x.shape)\n",
    "print(test_x.shape)\n",
    "print(train_y.shape)\n",
    "print(test_y.shape)"
   ]
  },
  {
   "cell_type": "code",
   "execution_count": null,
   "metadata": {},
   "outputs": [],
   "source": [
    "train_x = train_x.values.reshape((-1, 1))\n",
    "test_x = test_x.values.reshape((-1, 1))\n",
    "train_y = train_y.values.reshape((-1, 1))\n",
    "test_y = test_y.values.reshape((-1, 1))"
   ]
  },
  {
   "cell_type": "code",
   "execution_count": null,
   "metadata": {},
   "outputs": [],
   "source": [
    "print(train_x.shape)\n",
    "print(test_x.shape)\n",
    "print(train_y.shape)\n",
    "print(test_y.shape)"
   ]
  },
  {
   "cell_type": "code",
   "execution_count": null,
   "metadata": {},
   "outputs": [],
   "source": [
    "%matplotlib inline\n",
    "plt.xlabel(\"Experience (in Years)\")\n",
    "plt.ylabel(\"Salary\")\n",
    "plt.title(\"Experience v/s Salary\")\n",
    "plt.scatter(train_x, train_y, color=\"red\", marker=\"o\");"
   ]
  },
  {
   "cell_type": "code",
   "execution_count": null,
   "metadata": {},
   "outputs": [],
   "source": [
    "%matplotlib inline\n",
    "plt.title(\"Experience v/s Salary\")\n",
    "plt.xlabel(\"Experience (in Years)\")\n",
    "plt.ylabel(\"Salary\")\n",
    "plt.scatter(train_x, train_y, marker='+')\n",
    "plt.scatter(test_x, test_y, marker='+')"
   ]
  },
  {
   "cell_type": "code",
   "execution_count": null,
   "metadata": {},
   "outputs": [],
   "source": [
    "%matplotlib inline\n",
    "plt.xlabel(\"Experience (in Years)\")\n",
    "plt.ylabel(\"Salary\")\n",
    "plt.title(\"Experience v/s Salary\")\n",
    "plt.scatter(train_x, train_y, color=\"red\", marker=\"o\")\n",
    "plt.scatter(test_x, test_y, color=\"blue\", marker=\"o\");"
   ]
  },
  {
   "cell_type": "markdown",
   "metadata": {},
   "source": [
    "#### STEP-2\n",
    "\n",
    "- modelling the linear regression model\n",
    "- fitting the training set\n",
    "- getting coefficient and intercept"
   ]
  },
  {
   "cell_type": "code",
   "execution_count": null,
   "metadata": {},
   "outputs": [],
   "source": [
    "model = linear_model.LinearRegression()"
   ]
  },
  {
   "cell_type": "code",
   "execution_count": null,
   "metadata": {},
   "outputs": [],
   "source": [
    "model.fit(train_x, train_y)"
   ]
  },
  {
   "cell_type": "code",
   "execution_count": null,
   "metadata": {},
   "outputs": [],
   "source": [
    "model.coef_"
   ]
  },
  {
   "cell_type": "code",
   "execution_count": null,
   "metadata": {},
   "outputs": [],
   "source": [
    "model.intercept_"
   ]
  },
  {
   "cell_type": "code",
   "execution_count": null,
   "metadata": {},
   "outputs": [],
   "source": [
    "model.predict([[10.5]])"
   ]
  },
  {
   "cell_type": "markdown",
   "metadata": {},
   "source": [
    "https://stackoverflow.com/questions/45554008/error-in-python-script-expected-2d-array-got-1d-array-instead"
   ]
  },
  {
   "cell_type": "markdown",
   "metadata": {},
   "source": [
    "#### STEP-3\n",
    "\n",
    "- Predicting for test set\n",
    "- Getting cost, r2 score\n",
    "- Plotting the predicted result"
   ]
  },
  {
   "cell_type": "code",
   "execution_count": null,
   "metadata": {},
   "outputs": [],
   "source": [
    "y_test_predict = model.predict(test_x)"
   ]
  },
  {
   "cell_type": "code",
   "execution_count": null,
   "metadata": {},
   "outputs": [],
   "source": [
    "y_test_predict"
   ]
  },
  {
   "cell_type": "code",
   "execution_count": null,
   "metadata": {},
   "outputs": [],
   "source": [
    "mse = mean_squared_error(test_y, y_test_predict)\n",
    "print(mse)"
   ]
  },
  {
   "cell_type": "code",
   "execution_count": null,
   "metadata": {},
   "outputs": [],
   "source": [
    "r2 = r2_score(test_y, y_test_predict)\n",
    "print(r2)"
   ]
  },
  {
   "cell_type": "code",
   "execution_count": null,
   "metadata": {},
   "outputs": [],
   "source": [
    "plt.xlabel(\"Experience (in Years)\")\n",
    "plt.ylabel(\"Salary\")\n",
    "plt.title(\"Experience v/s Salary\")\n",
    "plt.scatter(X, y, marker='o')\n",
    "plt.plot(X, model.predict(X), '-r');"
   ]
  },
  {
   "cell_type": "code",
   "execution_count": null,
   "metadata": {
    "scrolled": true
   },
   "outputs": [],
   "source": [
    "plt.xlabel(\"Experience (in Years)\")\n",
    "plt.ylabel(\"Salary\")\n",
    "plt.title(\"Experience v/s Salary\")\n",
    "plt.scatter(train_x, train_y, color=\"red\", marker=\"o\")\n",
    "plt.scatter(test_x, test_y, color=\"blue\", marker=\"o\")\n",
    "plt.plot(test_x, y_test_predict, '-g');"
   ]
  },
  {
   "cell_type": "code",
   "execution_count": null,
   "metadata": {},
   "outputs": [],
   "source": [
    "model.score(X, y)"
   ]
  },
  {
   "cell_type": "code",
   "execution_count": null,
   "metadata": {},
   "outputs": [],
   "source": []
  },
  {
   "cell_type": "markdown",
   "metadata": {},
   "source": [
    "### Using Python"
   ]
  },
  {
   "cell_type": "markdown",
   "metadata": {},
   "source": [
    "#### STEP-1\n",
    "\n",
    "- defining functions for forward prop, backprop, cost computations, parameters update and parameters initialization"
   ]
  },
  {
   "cell_type": "code",
   "execution_count": null,
   "metadata": {},
   "outputs": [],
   "source": [
    "def parameters_initialization(n_x, m):\n",
    "    parameters = {}\n",
    "    \n",
    "    parameters['w'] = np.zeros((1, n_x))\n",
    "    parameters['b'] = np.zeros((1, 1))\n",
    "    \n",
    "    return parameters\n",
    "\n",
    "def compute_cost(y_hat, y):\n",
    "    m = y.shape[1]\n",
    "    \n",
    "    return (1/(2*m))*np.sum(np.square(y_hat - y))\n",
    "\n",
    "def compute_gradients(X, y, y_hat):\n",
    "    m = y.shape[1]\n",
    "    grads = {}\n",
    "    \n",
    "    dZ = y_hat - y\n",
    "    grads['dw'] = (1/m)*np.dot(dZ, X.T)\n",
    "    grads['db'] = (1/m)*np.sum(dZ, axis=1, keepdims=True)\n",
    "    \n",
    "    return grads\n",
    "\n",
    "def update_parameters(grads, parameters, learning_rate):\n",
    "    parameters['w'] -= learning_rate*grads['dw']\n",
    "    parameters['b'] -= learning_rate*grads['db']\n",
    "    \n",
    "    return parameters"
   ]
  },
  {
   "cell_type": "markdown",
   "metadata": {},
   "source": [
    "#### STEP-2\n",
    "\n",
    "- defining model of operations which optimize gradient descent, plot cost and returns updated parameters\n",
    "- define predict function that predict the output for newer datasets or test set."
   ]
  },
  {
   "cell_type": "code",
   "execution_count": null,
   "metadata": {},
   "outputs": [],
   "source": [
    "def model(X, y, num_iterations, learning_rate):\n",
    "    \n",
    "    n_x = X.shape[0]\n",
    "    m = X.shape[1]\n",
    "    costs = []\n",
    "    \n",
    "    parameters = parameters_initialization(n_x, m)\n",
    "    for i in range(num_iterations):\n",
    "        y_hat = np.dot(parameters['w'], X) + parameters['b']\n",
    "        cost = compute_cost(y_hat, y)\n",
    "        gradients = compute_gradients(X, y, y_hat)\n",
    "        update_parameters(gradients, parameters, learning_rate)\n",
    "        \n",
    "        if(i%1000==0):\n",
    "            costs.append(cost)\n",
    "        \n",
    "    plt.plot(costs)\n",
    "    plt.ylabel(\"Cost\")\n",
    "    plt.xlabel(\"Num Iterations\")\n",
    "    plt.title(\"Cost v/s Num Iterations\")\n",
    "    plt.show()\n",
    "        \n",
    "    return parameters"
   ]
  },
  {
   "cell_type": "code",
   "execution_count": null,
   "metadata": {},
   "outputs": [],
   "source": [
    "def predict(X, y, parameters):\n",
    "    y_predict = np.dot(parameters['w'], X) + parameters['b']\n",
    "    cost = compute_cost(y_predict, y)\n",
    "    \n",
    "    return y_predict, cost"
   ]
  },
  {
   "cell_type": "markdown",
   "metadata": {},
   "source": [
    "#### STEP-3\n",
    "\n",
    "- define linear regression function that takes the input and perform GD optimization and predictions, along with plotting"
   ]
  },
  {
   "cell_type": "code",
   "execution_count": null,
   "metadata": {},
   "outputs": [],
   "source": [
    "def LinearRegression(train_x, test_x, train_y, test_y, num_iterations=7500, learning_rate=0.01):\n",
    "    parameters = model(train_x, train_y, num_iterations, learning_rate)\n",
    "    print(\"Coef: \", parameters['w'])\n",
    "    print(\"Intercept: \", parameters['b'])\n",
    "    y_predict, test_cost = predict(test_x, test_y, parameters)\n",
    "    print(\"Cost:\", test_cost)\n",
    "    \n",
    "    X = np.hstack((train_x, test_x))\n",
    "    y = np.hstack((train_y, test_y))\n",
    "    pred, cost = predict(X, y, parameters)\n",
    "    \n",
    "    plt.xlabel(\"Experience (in Years)\")\n",
    "    plt.ylabel(\"Salary\")\n",
    "    plt.title(\"Experience v/s Salary\")\n",
    "    plt.scatter(X, y, marker='o')\n",
    "    plt.scatter(X, pred)\n",
    "    plt.show()"
   ]
  },
  {
   "cell_type": "code",
   "execution_count": null,
   "metadata": {},
   "outputs": [],
   "source": [
    "salary_dataset = pd.read_csv(\"salary_data.csv\")\n",
    "\n",
    "train_x, test_x, train_y, test_y = train_test_split(salary_dataset['YearsExperience'], salary_dataset['Salary'], test_size=0.25, random_state=42)\n",
    "\n",
    "X = salary_dataset['YearsExperience']\n",
    "y = salary_dataset['Salary']\n",
    "\n",
    "train_x = train_x.values.reshape((1, -1))\n",
    "test_x = test_x.values.reshape((1, -1))\n",
    "train_y = train_y.values.reshape((1, -1))\n",
    "test_y = test_y.values.reshape((1, -1))\n",
    "\n",
    "LinearRegression(train_x, test_x, train_y, test_y, 5000, 0.03)"
   ]
  },
  {
   "cell_type": "code",
   "execution_count": null,
   "metadata": {},
   "outputs": [],
   "source": []
  },
  {
   "cell_type": "code",
   "execution_count": null,
   "metadata": {},
   "outputs": [],
   "source": []
  },
  {
   "cell_type": "markdown",
   "metadata": {},
   "source": [
    "## Linear Regression on multidimensional dataset"
   ]
  },
  {
   "cell_type": "markdown",
   "metadata": {},
   "source": [
    "### Using Scikit Learn"
   ]
  },
  {
   "cell_type": "markdown",
   "metadata": {},
   "source": [
    "### STEP-1\n",
    "- Downloading and Cleaning Dataset"
   ]
  },
  {
   "cell_type": "code",
   "execution_count": null,
   "metadata": {},
   "outputs": [],
   "source": [
    "df = pd.read_csv(\"50_startups.csv\")"
   ]
  },
  {
   "cell_type": "code",
   "execution_count": null,
   "metadata": {},
   "outputs": [],
   "source": [
    "df.head()"
   ]
  },
  {
   "cell_type": "code",
   "execution_count": null,
   "metadata": {},
   "outputs": [],
   "source": [
    "df.shape"
   ]
  },
  {
   "cell_type": "code",
   "execution_count": null,
   "metadata": {},
   "outputs": [],
   "source": [
    "df.info()"
   ]
  },
  {
   "cell_type": "code",
   "execution_count": null,
   "metadata": {},
   "outputs": [],
   "source": [
    "df.State.value_counts()"
   ]
  },
  {
   "cell_type": "code",
   "execution_count": null,
   "metadata": {},
   "outputs": [],
   "source": [
    "X = df.iloc[:, :-1]\n",
    "y = df.iloc[:, -1]"
   ]
  },
  {
   "cell_type": "code",
   "execution_count": null,
   "metadata": {},
   "outputs": [],
   "source": [
    "X"
   ]
  },
  {
   "cell_type": "code",
   "execution_count": null,
   "metadata": {},
   "outputs": [],
   "source": [
    "y.sample(10)"
   ]
  },
  {
   "cell_type": "code",
   "execution_count": null,
   "metadata": {},
   "outputs": [],
   "source": [
    "states = pd.get_dummies(X['State'], drop_first=True)"
   ]
  },
  {
   "cell_type": "code",
   "execution_count": null,
   "metadata": {},
   "outputs": [],
   "source": [
    "X.drop('State', axis=1, inplace=True)"
   ]
  },
  {
   "cell_type": "code",
   "execution_count": null,
   "metadata": {},
   "outputs": [],
   "source": [
    "X.head()"
   ]
  },
  {
   "cell_type": "code",
   "execution_count": null,
   "metadata": {},
   "outputs": [],
   "source": [
    "X = pd.concat([X, states], axis=1)"
   ]
  },
  {
   "cell_type": "code",
   "execution_count": null,
   "metadata": {},
   "outputs": [],
   "source": [
    "X.sample(10)"
   ]
  },
  {
   "cell_type": "code",
   "execution_count": null,
   "metadata": {},
   "outputs": [],
   "source": [
    "print(X.shape)\n",
    "print(y.shape)"
   ]
  },
  {
   "cell_type": "code",
   "execution_count": null,
   "metadata": {},
   "outputs": [],
   "source": [
    "means = X.mean()\n",
    "print(means)\n",
    "\n",
    "stddvs = X.std()\n",
    "print(stddvs)"
   ]
  },
  {
   "cell_type": "code",
   "execution_count": null,
   "metadata": {},
   "outputs": [],
   "source": [
    "X[['R&D Spend', 'Administration', 'Marketing Spend']] = (X[['R&D Spend', 'Administration', 'Marketing Spend']] - means[['R&D Spend', 'Administration', 'Marketing Spend']])/stddvs[['R&D Spend', 'Administration', 'Marketing Spend']]"
   ]
  },
  {
   "cell_type": "code",
   "execution_count": null,
   "metadata": {},
   "outputs": [],
   "source": [
    "X"
   ]
  },
  {
   "cell_type": "markdown",
   "metadata": {},
   "source": [
    "#### STEP-2\n",
    "- dividing dataset to train and test set\n"
   ]
  },
  {
   "cell_type": "code",
   "execution_count": null,
   "metadata": {},
   "outputs": [],
   "source": [
    "X_train, X_test, y_train, y_test = train_test_split(X, y, test_size=0.2, random_state=0)"
   ]
  },
  {
   "cell_type": "code",
   "execution_count": null,
   "metadata": {},
   "outputs": [],
   "source": [
    "print(X_train.shape)\n",
    "print(X_test.shape)\n",
    "print(y_train.shape)\n",
    "print(y_test.shape)"
   ]
  },
  {
   "cell_type": "markdown",
   "metadata": {},
   "source": [
    "#### STEP-3\n",
    "- Model the dataset\n",
    "- Predict on test set\n",
    "- get coefficient and intercept\n",
    "- Calculate cost and r2 score"
   ]
  },
  {
   "cell_type": "code",
   "execution_count": null,
   "metadata": {},
   "outputs": [],
   "source": [
    "from sklearn.linear_model import LinearRegression\n",
    "model = LinearRegression()"
   ]
  },
  {
   "cell_type": "code",
   "execution_count": null,
   "metadata": {},
   "outputs": [],
   "source": [
    "model.fit(X_train, y_train)"
   ]
  },
  {
   "cell_type": "code",
   "execution_count": null,
   "metadata": {},
   "outputs": [],
   "source": [
    "y_pred = model.predict(X_test)"
   ]
  },
  {
   "cell_type": "code",
   "execution_count": null,
   "metadata": {},
   "outputs": [],
   "source": [
    "y_pred"
   ]
  },
  {
   "cell_type": "code",
   "execution_count": null,
   "metadata": {},
   "outputs": [],
   "source": [
    "mse = mean_squared_error(y_test, y_pred)\n",
    "print(\"MSE: \", mse)\n",
    "\n",
    "r2 = r2_score(y_test, y_pred)\n",
    "print(\"r2 score: \", r2)"
   ]
  },
  {
   "cell_type": "code",
   "execution_count": null,
   "metadata": {},
   "outputs": [],
   "source": [
    "model.coef_"
   ]
  },
  {
   "cell_type": "code",
   "execution_count": null,
   "metadata": {},
   "outputs": [],
   "source": [
    "model.intercept_"
   ]
  },
  {
   "cell_type": "code",
   "execution_count": null,
   "metadata": {},
   "outputs": [],
   "source": [
    "model.score(X, y)"
   ]
  },
  {
   "cell_type": "code",
   "execution_count": null,
   "metadata": {},
   "outputs": [],
   "source": []
  },
  {
   "cell_type": "markdown",
   "metadata": {},
   "source": [
    "### Using Python"
   ]
  },
  {
   "cell_type": "markdown",
   "metadata": {},
   "source": [
    "##### As this is multiple Linear Regression, it does not involve plotting on multidimension.\n",
    "\n",
    "#### STEP-1\n",
    "\n",
    "- defining functions for forward prop, backprop, cost computations, parameters update and parameters initialization"
   ]
  },
  {
   "cell_type": "code",
   "execution_count": null,
   "metadata": {},
   "outputs": [],
   "source": [
    "def parameters_initialization(n_x, m):\n",
    "    parameters = {}\n",
    "    \n",
    "    parameters['w'] = np.zeros((1, n_x))\n",
    "    parameters['b'] = np.zeros((1, 1))\n",
    "    \n",
    "    return parameters\n",
    "\n",
    "def compute_cost(y_hat, y):\n",
    "    m = y.shape[1]\n",
    "    \n",
    "    return (1/(2*m))*np.sum(np.square(y_hat - y))\n",
    "\n",
    "def compute_gradients(X, y, y_hat):\n",
    "    grads = {}\n",
    "    m = X.shape[1]\n",
    "    \n",
    "    dZ = y_hat - y\n",
    "    grads['dw'] = (1/m)*np.dot(dZ, X.T)\n",
    "    grads['db'] = (1/m)*np.sum(dZ)\n",
    "    \n",
    "    return grads\n",
    "\n",
    "def update_parameters(parameters, gradients, learning_rate):\n",
    "    parameters['w'] -= learning_rate*gradients['dw']\n",
    "    parameters['b'] -= learning_rate*gradients['db']\n",
    "    \n",
    "    return parameters"
   ]
  },
  {
   "cell_type": "markdown",
   "metadata": {},
   "source": [
    "#### STEP-2\n",
    "\n",
    "- defining model of operations which optimize gradient descent, plot cost and returns updated parameters\n",
    "- define predict function that predict the output for newer datasets or test set."
   ]
  },
  {
   "cell_type": "code",
   "execution_count": null,
   "metadata": {},
   "outputs": [],
   "source": [
    "def model(X, y, num_iterations, learning_rate):\n",
    "    \n",
    "    n_x = X.shape[0]\n",
    "    m = X.shape[1]\n",
    "    costs = []\n",
    "    \n",
    "    parameters = parameters_initialization(n_x, m)\n",
    "    \n",
    "    for i in range(num_iterations):\n",
    "        y_hat = np.dot(parameters['w'], X) + parameters['b']\n",
    "        cost = compute_cost(y_hat, y)\n",
    "        gradients = compute_gradients(X, y, y_hat)\n",
    "        parameters = update_parameters(parameters, gradients, learning_rate)\n",
    "        \n",
    "        if i%1000 == 0:\n",
    "            costs.append(cost)\n",
    "            \n",
    "    plt.plot(costs)\n",
    "    plt.xlabel(\"Num Iterations\")\n",
    "    plt.ylabel(\"Cost\")\n",
    "    plt.title(\"Cost v/s Num Iterations\")\n",
    "    plt.show()\n",
    "    \n",
    "    return parameters"
   ]
  },
  {
   "cell_type": "code",
   "execution_count": null,
   "metadata": {},
   "outputs": [],
   "source": [
    "def predict(X, y, parameters):\n",
    "    y_predict = np.dot(parameters['w'], X) + parameters['b']\n",
    "    cost = compute_cost(y_predict, y)\n",
    "    \n",
    "    return y_predict, cost"
   ]
  },
  {
   "cell_type": "markdown",
   "metadata": {},
   "source": [
    "#### STEP-3\n",
    "\n",
    "- define linear regression function that takes the input and perform GD optimization and predictions"
   ]
  },
  {
   "cell_type": "code",
   "execution_count": null,
   "metadata": {},
   "outputs": [],
   "source": [
    "def LinearRegression(train_x, test_x, train_y, test_y, num_iterations=7500, learning_rate=0.01):\n",
    "    parameters = model(train_x, train_y, num_iterations, learning_rate)\n",
    "    print(\"Coef:\", parameters['w'])\n",
    "    print(\"Intercept:\", parameters['b'])\n",
    "    y_predict, test_cost = predict(test_x, test_y, parameters)\n",
    "    print(\"Cost on test set:\", test_cost)\n",
    "    \n",
    "    X = np.hstack((train_x, test_x))\n",
    "    y = np.hstack((train_y, test_y))\n",
    "    prediction, cost = predict(X, y, parameters)"
   ]
  },
  {
   "cell_type": "code",
   "execution_count": null,
   "metadata": {},
   "outputs": [],
   "source": [
    "X"
   ]
  },
  {
   "cell_type": "code",
   "execution_count": null,
   "metadata": {},
   "outputs": [],
   "source": [
    "train_x, test_x, train_y, test_y = train_test_split(X, y, test_size=0.2, random_state=0)\n",
    "\n",
    "print(train_x.shape)\n",
    "print(test_x.shape)\n",
    "print(train_y.shape)\n",
    "print(test_y.shape)\n",
    "\n",
    "train_x = train_x.T\n",
    "test_x = test_x.T\n",
    "train_y = train_y.values.reshape((1, -1))\n",
    "test_y = test_y.values.reshape((1, -1))\n",
    "\n",
    "print(train_x.shape)\n",
    "print(test_x.shape)\n",
    "print(train_y.shape)\n",
    "print(test_y.shape)"
   ]
  },
  {
   "cell_type": "code",
   "execution_count": null,
   "metadata": {
    "scrolled": false
   },
   "outputs": [],
   "source": [
    "LinearRegression(train_x, test_x, train_y, test_y, 5000, 0.03)"
   ]
  },
  {
   "cell_type": "code",
   "execution_count": null,
   "metadata": {},
   "outputs": [],
   "source": []
  }
 ],
 "metadata": {
  "kernelspec": {
   "display_name": "Python 3",
   "language": "python",
   "name": "python3"
  },
  "language_info": {
   "codemirror_mode": {
    "name": "ipython",
    "version": 3
   },
   "file_extension": ".py",
   "mimetype": "text/x-python",
   "name": "python",
   "nbconvert_exporter": "python",
   "pygments_lexer": "ipython3",
   "version": "3.7.3"
  }
 },
 "nbformat": 4,
 "nbformat_minor": 2
}
